{
 "cells": [
  {
   "cell_type": "code",
   "execution_count": 7,
   "metadata": {
    "id": "MpBmXtHdjQIf"
   },
   "outputs": [],
   "source": [
    "from zipfile import ZipFile\n",
    "\n",
    "file_name = \"Dataset.zip\"\n",
    "\n",
    "with ZipFile(file_name, 'r') as zip:\n",
    "  zip.extractall()"
   ]
  },
  {
   "cell_type": "code",
   "execution_count": 8,
   "metadata": {
    "id": "dCpj5To7jcV-"
   },
   "outputs": [],
   "source": [
    "from keras.models import Sequential\n",
    "from keras.layers import Conv2D, MaxPooling2D, Flatten, Dense, Dropout"
   ]
  },
  {
   "cell_type": "code",
   "execution_count": 9,
   "metadata": {
    "id": "C04r_ieGjcYd"
   },
   "outputs": [],
   "source": [
    "from keras.datasets import cifar10\n",
    "from keras.models import Model\n",
    "from keras.layers import Dense, Dropout, Activation, BatchNormalization, Flatten\n",
    "from keras.callbacks import ModelCheckpoint, ReduceLROnPlateau\n",
    "from keras.optimizers import Adam"
   ]
  },
  {
   "cell_type": "code",
   "execution_count": 10,
   "metadata": {
    "id": "ZOrpmFFZjcbH"
   },
   "outputs": [],
   "source": [
    "from tensorflow.keras.applications import EfficientNetB0\n",
    "from tensorflow.keras.layers import Conv2D,Input,Dense,GlobalAveragePooling2D,Dropout,BatchNormalization\n",
    "from tensorflow.keras.optimizers import RMSprop\n",
    "from tensorflow.keras.losses import SparseCategoricalCrossentropy"
   ]
  },
  {
   "cell_type": "code",
   "execution_count": 11,
   "metadata": {
    "id": "KfhuvV86jcdm"
   },
   "outputs": [],
   "source": [
    "img_size = 224\n",
    "batchSize = 32\n",
    "\n",
    "model = EfficientNetB0(include_top=False, input_shape=(img_size, img_size, 3), weights= 'imagenet')\n",
    "x = Input(shape = (img_size, img_size, 3))\n",
    "out_1 = model(x, training = True)\n",
    "out_1 = GlobalAveragePooling2D(name = 'encoding')(out_1)\n",
    "out_1 = Dropout(0.5)(out_1)\n",
    "output = Dense(50 , activation=\"softmax\")(out_1)\n",
    "\n",
    "final_model = Model(inputs = x, outputs = output)\n",
    "final_model.compile(optimizer = 'adam', loss = 'categorical_crossentropy', metrics = ['accuracy'])"
   ]
  },
  {
   "cell_type": "code",
   "execution_count": 12,
   "metadata": {
    "id": "pbx0Ykm7jcgI"
   },
   "outputs": [],
   "source": [
    "from keras.preprocessing.image import ImageDataGenerator\n",
    "from PIL import ImageFile"
   ]
  },
  {
   "cell_type": "code",
   "execution_count": 13,
   "metadata": {
    "colab": {
     "base_uri": "https://localhost:8080/"
    },
    "id": "5gwx13V8jcih",
    "outputId": "cb37d4d0-fe4e-487e-97ea-fde3d81709d4"
   },
   "outputs": [
    {
     "name": "stdout",
     "output_type": "stream",
     "text": [
      "Found 12000 images belonging to 50 classes.\n",
      "Found 3000 images belonging to 50 classes.\n"
     ]
    }
   ],
   "source": [
    "ImageFile.LOAD_TRUNCATED_IMAGES = True\n",
    "\n",
    "train_datagen = ImageDataGenerator(rescale = 1./255, shear_range = .1, rotation_range = 25)\n",
    "test_datagen = ImageDataGenerator(rescale = 1./255)\n",
    "\n",
    "training_set = train_datagen.flow_from_directory('Dataset/Train', target_size = (64, 64), \n",
    "                                                 batch_size = 32, class_mode = 'categorical')\n",
    "test_set = test_datagen.flow_from_directory('Dataset/Test', target_size = (64, 64), \n",
    "                                                 batch_size = 32, class_mode = 'categorical')"
   ]
  },
  {
   "cell_type": "code",
   "execution_count": 14,
   "metadata": {
    "colab": {
     "base_uri": "https://localhost:8080/"
    },
    "id": "K1S7sf0Njck9",
    "outputId": "74d71530-c8c2-48c6-b75d-2879b13733d4"
   },
   "outputs": [
    {
     "name": "stdout",
     "output_type": "stream",
     "text": [
      "Epoch 1/50\n",
      "375/375 [==============================] - 42s 74ms/step - loss: 2.4173 - accuracy: 0.3786 - val_loss: 0.4693 - val_accuracy: 0.8585\n",
      "Epoch 2/50\n",
      "375/375 [==============================] - 26s 69ms/step - loss: 0.5116 - accuracy: 0.8426 - val_loss: 0.3293 - val_accuracy: 0.8955\n",
      "Epoch 3/50\n",
      "375/375 [==============================] - 26s 69ms/step - loss: 0.3388 - accuracy: 0.8956 - val_loss: 0.2640 - val_accuracy: 0.9187\n",
      "Epoch 4/50\n",
      "375/375 [==============================] - 26s 68ms/step - loss: 0.2388 - accuracy: 0.9250 - val_loss: 0.2135 - val_accuracy: 0.9351\n",
      "Epoch 5/50\n",
      "375/375 [==============================] - 26s 69ms/step - loss: 0.2238 - accuracy: 0.9321 - val_loss: 0.1808 - val_accuracy: 0.9459\n",
      "Epoch 6/50\n",
      "375/375 [==============================] - 26s 68ms/step - loss: 0.1838 - accuracy: 0.9410 - val_loss: 0.1965 - val_accuracy: 0.9435\n",
      "Epoch 7/50\n",
      "375/375 [==============================] - 26s 69ms/step - loss: 0.1730 - accuracy: 0.9495 - val_loss: 0.1702 - val_accuracy: 0.9496\n",
      "Epoch 8/50\n",
      "375/375 [==============================] - 26s 69ms/step - loss: 0.1543 - accuracy: 0.9505 - val_loss: 0.1850 - val_accuracy: 0.9449\n",
      "Epoch 9/50\n",
      "375/375 [==============================] - 26s 68ms/step - loss: 0.1504 - accuracy: 0.9520 - val_loss: 0.1812 - val_accuracy: 0.9479\n",
      "Epoch 10/50\n",
      "375/375 [==============================] - 26s 69ms/step - loss: 0.1416 - accuracy: 0.9561 - val_loss: 0.1507 - val_accuracy: 0.9567\n",
      "Epoch 11/50\n",
      "375/375 [==============================] - 26s 68ms/step - loss: 0.1481 - accuracy: 0.9548 - val_loss: 0.1530 - val_accuracy: 0.9543\n",
      "Epoch 12/50\n",
      "375/375 [==============================] - 26s 68ms/step - loss: 0.1284 - accuracy: 0.9614 - val_loss: 0.1775 - val_accuracy: 0.9550\n",
      "Epoch 13/50\n",
      "375/375 [==============================] - 26s 69ms/step - loss: 0.1234 - accuracy: 0.9617 - val_loss: 0.1561 - val_accuracy: 0.9556\n",
      "Epoch 14/50\n",
      "375/375 [==============================] - 26s 68ms/step - loss: 0.1214 - accuracy: 0.9632 - val_loss: 0.1796 - val_accuracy: 0.9483\n",
      "Epoch 15/50\n",
      "375/375 [==============================] - 26s 68ms/step - loss: 0.1095 - accuracy: 0.9679 - val_loss: 0.1528 - val_accuracy: 0.9556\n",
      "Epoch 16/50\n",
      "375/375 [==============================] - 26s 69ms/step - loss: 0.0928 - accuracy: 0.9713 - val_loss: 0.1520 - val_accuracy: 0.9583\n",
      "Epoch 17/50\n",
      "375/375 [==============================] - 26s 68ms/step - loss: 0.0987 - accuracy: 0.9711 - val_loss: 0.2067 - val_accuracy: 0.9479\n",
      "Epoch 18/50\n",
      "375/375 [==============================] - 26s 69ms/step - loss: 0.1072 - accuracy: 0.9667 - val_loss: 0.1486 - val_accuracy: 0.9593\n",
      "Epoch 19/50\n",
      "375/375 [==============================] - 26s 70ms/step - loss: 0.0787 - accuracy: 0.9748 - val_loss: 0.1400 - val_accuracy: 0.9593\n",
      "Epoch 20/50\n",
      "375/375 [==============================] - 26s 70ms/step - loss: 0.0927 - accuracy: 0.9728 - val_loss: 0.1533 - val_accuracy: 0.9587\n",
      "Epoch 21/50\n",
      "375/375 [==============================] - 26s 69ms/step - loss: 0.1035 - accuracy: 0.9706 - val_loss: 0.1552 - val_accuracy: 0.9614\n",
      "Epoch 22/50\n",
      "375/375 [==============================] - 26s 69ms/step - loss: 0.0832 - accuracy: 0.9776 - val_loss: 0.1257 - val_accuracy: 0.9661\n",
      "Epoch 23/50\n",
      "375/375 [==============================] - 26s 69ms/step - loss: 0.0844 - accuracy: 0.9734 - val_loss: 0.1391 - val_accuracy: 0.9637\n",
      "Epoch 24/50\n",
      "375/375 [==============================] - 26s 69ms/step - loss: 0.0828 - accuracy: 0.9728 - val_loss: 0.1572 - val_accuracy: 0.9607\n",
      "Epoch 25/50\n",
      "375/375 [==============================] - 26s 69ms/step - loss: 0.0849 - accuracy: 0.9727 - val_loss: 0.1147 - val_accuracy: 0.9708\n",
      "Epoch 26/50\n",
      "375/375 [==============================] - 26s 69ms/step - loss: 0.0673 - accuracy: 0.9774 - val_loss: 0.1353 - val_accuracy: 0.9640\n",
      "Epoch 27/50\n",
      "375/375 [==============================] - 26s 68ms/step - loss: 0.0653 - accuracy: 0.9813 - val_loss: 0.1432 - val_accuracy: 0.9614\n",
      "Epoch 28/50\n",
      "375/375 [==============================] - 25s 68ms/step - loss: 0.0813 - accuracy: 0.9748 - val_loss: 0.1241 - val_accuracy: 0.9677\n",
      "Epoch 29/50\n",
      "375/375 [==============================] - 26s 69ms/step - loss: 0.0526 - accuracy: 0.9849 - val_loss: 0.1091 - val_accuracy: 0.9704\n",
      "Epoch 30/50\n",
      "375/375 [==============================] - 26s 69ms/step - loss: 0.0582 - accuracy: 0.9810 - val_loss: 0.1438 - val_accuracy: 0.9634\n",
      "Epoch 31/50\n",
      "375/375 [==============================] - 26s 69ms/step - loss: 0.0729 - accuracy: 0.9776 - val_loss: 0.1503 - val_accuracy: 0.9603\n",
      "Epoch 32/50\n",
      "375/375 [==============================] - 25s 65ms/step - loss: 0.0630 - accuracy: 0.9792 - val_loss: 0.1275 - val_accuracy: 0.9637\n",
      "Epoch 33/50\n",
      "375/375 [==============================] - 25s 65ms/step - loss: 0.0500 - accuracy: 0.9837 - val_loss: 0.0988 - val_accuracy: 0.9741\n",
      "Epoch 34/50\n",
      "375/375 [==============================] - 25s 65ms/step - loss: 0.0554 - accuracy: 0.9830 - val_loss: 0.1319 - val_accuracy: 0.9701\n",
      "Epoch 35/50\n",
      "375/375 [==============================] - 24s 65ms/step - loss: 0.0560 - accuracy: 0.9821 - val_loss: 0.1396 - val_accuracy: 0.9674\n",
      "Epoch 36/50\n",
      "375/375 [==============================] - 24s 65ms/step - loss: 0.0716 - accuracy: 0.9775 - val_loss: 0.1181 - val_accuracy: 0.9708\n",
      "Epoch 37/50\n",
      "375/375 [==============================] - 24s 65ms/step - loss: 0.0671 - accuracy: 0.9782 - val_loss: 0.1259 - val_accuracy: 0.9698\n",
      "Epoch 38/50\n",
      "375/375 [==============================] - 24s 65ms/step - loss: 0.0380 - accuracy: 0.9897 - val_loss: 0.1456 - val_accuracy: 0.9610\n",
      "Epoch 39/50\n",
      "375/375 [==============================] - 25s 67ms/step - loss: 0.0508 - accuracy: 0.9847 - val_loss: 0.1190 - val_accuracy: 0.9714\n",
      "Epoch 40/50\n",
      "375/375 [==============================] - 26s 69ms/step - loss: 0.0514 - accuracy: 0.9855 - val_loss: 0.1178 - val_accuracy: 0.9674\n",
      "Epoch 41/50\n",
      "375/375 [==============================] - 27s 72ms/step - loss: 0.0606 - accuracy: 0.9822 - val_loss: 0.1332 - val_accuracy: 0.9647\n",
      "Epoch 42/50\n",
      "375/375 [==============================] - 26s 69ms/step - loss: 0.0551 - accuracy: 0.9810 - val_loss: 0.1540 - val_accuracy: 0.9617\n",
      "Epoch 43/50\n",
      "375/375 [==============================] - 26s 69ms/step - loss: 0.0437 - accuracy: 0.9860 - val_loss: 0.1494 - val_accuracy: 0.9664\n",
      "Epoch 44/50\n",
      "375/375 [==============================] - 26s 69ms/step - loss: 0.0724 - accuracy: 0.9789 - val_loss: 0.1147 - val_accuracy: 0.9714\n",
      "Epoch 45/50\n",
      "375/375 [==============================] - 26s 68ms/step - loss: 0.0394 - accuracy: 0.9879 - val_loss: 0.1015 - val_accuracy: 0.9768\n",
      "Epoch 46/50\n",
      "375/375 [==============================] - 26s 70ms/step - loss: 0.0311 - accuracy: 0.9902 - val_loss: 0.0917 - val_accuracy: 0.9765\n",
      "Epoch 47/50\n",
      "375/375 [==============================] - 27s 71ms/step - loss: 0.0390 - accuracy: 0.9877 - val_loss: 0.1300 - val_accuracy: 0.9704\n",
      "Epoch 48/50\n",
      "375/375 [==============================] - 26s 70ms/step - loss: 0.0461 - accuracy: 0.9858 - val_loss: 0.1162 - val_accuracy: 0.9684\n",
      "Epoch 49/50\n",
      "375/375 [==============================] - 27s 71ms/step - loss: 0.0399 - accuracy: 0.9874 - val_loss: 0.1128 - val_accuracy: 0.9724\n",
      "Epoch 50/50\n",
      "375/375 [==============================] - 27s 71ms/step - loss: 0.0413 - accuracy: 0.9871 - val_loss: 0.1150 - val_accuracy: 0.9735\n",
      "Saved model to disk\n"
     ]
    }
   ],
   "source": [
    "final_model.fit(training_set, steps_per_epoch = 375, epochs = 50,\n",
    "                        validation_data = test_set, validation_steps = 93)\n",
    "\n",
    "\n",
    "classifier_json = final_model.to_json()\n",
    "with open(\"EfficientNetB0E50.json\", \"w\") as json_file:\n",
    "    json_file.write(classifier_json)\n",
    "    \n",
    "final_model.save_weights(\"EfficientNetB0E50.h5\")\n",
    "print('Saved model to disk')"
   ]
  },
  {
   "cell_type": "code",
   "execution_count": null,
   "metadata": {
    "id": "JAXDN_LSjcpF"
   },
   "outputs": [],
   "source": []
  },
  {
   "cell_type": "code",
   "execution_count": null,
   "metadata": {
    "id": "AW82SVGZjcrM"
   },
   "outputs": [],
   "source": []
  },
  {
   "cell_type": "code",
   "execution_count": null,
   "metadata": {
    "id": "43jy1LTDjctf"
   },
   "outputs": [],
   "source": []
  },
  {
   "cell_type": "code",
   "execution_count": null,
   "metadata": {
    "id": "vZs-mJFGjcv9"
   },
   "outputs": [],
   "source": []
  },
  {
   "cell_type": "code",
   "execution_count": null,
   "metadata": {
    "id": "O-0TltFOjcyp"
   },
   "outputs": [],
   "source": []
  },
  {
   "cell_type": "code",
   "execution_count": null,
   "metadata": {
    "id": "7Pi81WFfjc01"
   },
   "outputs": [],
   "source": []
  }
 ],
 "metadata": {
  "accelerator": "GPU",
  "colab": {
   "name": "CSE299 EfficientNet B0.ipynb",
   "provenance": []
  },
  "kernelspec": {
   "display_name": "Python 3",
   "language": "python",
   "name": "python3"
  },
  "language_info": {
   "codemirror_mode": {
    "name": "ipython",
    "version": 3
   },
   "file_extension": ".py",
   "mimetype": "text/x-python",
   "name": "python",
   "nbconvert_exporter": "python",
   "pygments_lexer": "ipython3",
   "version": "3.7.9"
  }
 },
 "nbformat": 4,
 "nbformat_minor": 1
}
